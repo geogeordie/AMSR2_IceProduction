{
 "cells": [
  {
   "cell_type": "code",
   "execution_count": 64,
   "metadata": {},
   "outputs": [],
   "source": [
    "import os, fnmatch\n",
    "import numpy\n",
    "from PIL import Image\n",
    "import csv\n",
    "import gdal\n",
    "import matplotlib.pyplot as plt\n",
    "\n",
    "\n",
    "file = '/Users/gjmacdonald/Documents/Sea Ice Project/SIC_AMSR2/2020masked/clip_asi-AMSR2-s3125-20201001-v5.4.tif'\n",
    "image = Image.open(file)\n",
    "SICOct1 = numpy.array(image) #Oct 1\n",
    "\n",
    "#x= \n",
    "#data = x.ReadAsArray()\n",
    "\n",
    "dataset= gdal.Open('/Users/gjmacdonald/Documents/Sea Ice Project/AutoSeaIceProduc2/Masked/HeatFlux1Oct_Extent.tif')\n",
    "HeatFluxAll = dataset.ReadAsArray()\n",
    "Oct1HF = HeatFluxAll[0,:,:] #Day 1 = index\n",
    "#Nodata value = 9.969209968386869e+36\n",
    "\n",
    "# Iceproduction = 84600*(3.125*3.125) * (1-SIC) * heatflux / 920 * (2.79*10^5)  check units of area\n",
    "\n",
    "#SIC divded by two as is out of 200, and by 100 to make decimal. Check this for polynya area too!\n",
    "\n",
    "\n",
    "#Iceproduction = 84600*(3.125*3.125)*(1-(SICOct1/2/100)*Oct1HF/920*(2.79*10**5)\n",
    "\n",
    "\n",
    "                                     #Iceproduction = 84600*(3.125*3.125)*(1*Oct1HF/920*(2.79*10**5)\n",
    "\n",
    "#Some random tab problem if continue in this cell\n",
    "\n",
    "#Cheng did 0.75 but I did 0.75 for polynya area. Reasses\n",
    "        #A[(A>5)&(A<10)]\n",
    "\n"
   ]
  },
  {
   "cell_type": "raw",
   "metadata": {},
   "source": []
  },
  {
   "cell_type": "code",
   "execution_count": 84,
   "metadata": {},
   "outputs": [
    {
     "data": {
      "text/plain": [
       "<matplotlib.image.AxesImage at 0x7fe530189fd0>"
      ]
     },
     "execution_count": 84,
     "metadata": {},
     "output_type": "execute_result"
    },
    {
     "data": {
      "image/png": "[encoded data removed]",
      "text/plain": [
       "<Figure size 432x288 with 1 Axes>"
      ]
     },
     "metadata": {
      "needs_background": "light"
     },
     "output_type": "display_data"
    }
   ],
   "source": [
    "#Conveluted way of making values that are 0 to 0.7 = to 1, and all values >0.7 incl nodata = 0\n",
    "\n",
    "Iceproduction = 84600*(3.125*3.125)*(1-(SICOct1/2/100)*Oct1HF/(920*(2.79*10**5))) #careful with brackets here especially after division\n",
    "SICOct1_mask = SICOct1/2/100 #bc scaled\n",
    "SICOct1_mask[SICOct1_mask == 0] = 0.1                                     \n",
    "SICOct1_mask[SICOct1_mask > 0.7] = 0 \n",
    "SICOct1_mask[(SICOct1_mask <= 0.7)&(SICOct1_mask>0)] = 1 \n",
    "#Cheng did 0.75 but I did 0.75 for polynya area. Reasses\n",
    "\n",
    "Iceproduction1Oct = SICOct1_mask*Iceproduction\n",
    "plt.imshow(Iceproduction1Oct)\n",
    "#Iceproduction1Oct[35,50] #824675491123.1085 823782665817.1965 823782.6658171966\n",
    "\n"
   ]
  },
  {
   "cell_type": "code",
   "execution_count": 246,
   "metadata": {},
   "outputs": [
    {
     "name": "stdout",
     "output_type": "stream",
     "text": [
      "1254933374.5530365\n",
      "1614350878.176149\n",
      "877286107.7067628\n",
      "755893521.3524318\n",
      "467997608.63059366\n",
      "1368833215.3784473\n",
      "1522214808.3364837\n",
      "1088192577.7548134\n",
      "1172962766.664186\n",
      "716290086.0377891\n",
      "671709931.7570455\n",
      "787717619.1761599\n",
      "622466563.6052338\n",
      "697482967.4381769\n",
      "372255751.77735287\n",
      "78580369.65257081\n",
      "256493990.2066776\n",
      "160231790.03776896\n",
      "646006859.651898\n",
      "403790850.6784652\n",
      "658582064.0159013\n",
      "717864531.8728117\n",
      "415685715.2399601\n",
      "987548487.8708867\n",
      "365854194.4827947\n",
      "479552028.9893118\n",
      "513115960.23661816\n",
      "648412302.4085499\n",
      "996440937.5650585\n"
     ]
    }
   ],
   "source": [
    "##Try to loop through october. Above works for one day\n",
    "##Seems to work - apart from misses last day, and may want to check if right since looks lower where less ice\n",
    "#THE REASON IT IS GOING WRONG IS THE HEATFLUX DATA IS LOADING AS NONSENSE DATA. BUT THE FILE IS OKAY. SOME PROBLEM WITH LOADING\n",
    "import os\n",
    "from PIL import Image\n",
    "import numpy as np\n",
    "import matplotlib.pyplot as plt\n",
    "\n",
    "outputfolder ='/Users/gjmacdonald/Documents/Sea Ice Project/AutoSeaIceProduc2/IceProducTifsOctTest/'\n",
    "path = '/Users/gjmacdonald/Documents/Sea Ice Project/AutoSeaIceProduc2/SIC_OctTest/'  \n",
    "noOfImages = 31 #no of images +1\n",
    "\n",
    "dataset= gdal.Open('/Users/gjmacdonald/Documents/Sea Ice Project/AutoSeaIceProduc2/Masked/HeatFlux1Oct_ExtentSat.tif')\n",
    "HeatFluxAll = dataset.ReadAsArray()\n",
    "#Nodata value\n",
    "#Oct1HF = HeatFluxAll[0,:,:]\n",
    "\n",
    "\n",
    "file_list2 = [x for x in sorted([x for x in os.listdir(path)])]\n",
    "thing = '.DS_Store' #Hidden file that occurs. \n",
    "image_frames = []\n",
    "days = np.arange(1,noOfImages)#Should this be 0?\n",
    "\n",
    "for k in days:\n",
    "    if k == days.shape[0]: #day.shape[0] gets the last index of shape, which breaks it. \n",
    "        break\n",
    "    image = Image.open(path + file_list2[(days[k]-1)]) #Cycles through file list. 0-1 because index starts at 0 \n",
    "    Y = np.array(image)\n",
    "    Y = Y.astype(\"float\") #Necessary to convert to Nan\n",
    "    #Y[Y == 255] = np.nan #Convert nodata to NaN\n",
    "    #Z = Y/2 # Because SIC are doubled in this resolution of dataset\n",
    "    ##Get Heatflux\n",
    "    Heatflux = HeatFluxAll[k-1,:,:] #assuming start from first band. k-1 cos first band indexed as 0, k starts at 1\n",
    "    Iceproduction = (3125*3125)*(1-(Y/2/100))*Heatflux/(920*(2.79*10**5)) #Removed 84600* (seconds in day)\n",
    "    # Try an example pixel of HeatFluxValue 25135448\n",
    "    \n",
    "    ##Make mask from SIC #Conveluted way of making values that are 0 to 0.7 = to 1, and all values >0.7 incl nodata = 0\n",
    "    SICO_mask = Y/2/100\n",
    "    SICO_mask[SICO_mask == 0] = 0.1 \n",
    "    SICO_mask[SICO_mask > 0.7] = 0 \n",
    "    SICO_mask[(SICO_mask <= 0.7)&(SICO_mask>0)] = 1  \n",
    "    \n",
    "    ##Apply mask to iceproduction\n",
    "    Iceproduction = SICO_mask*Iceproduction\n",
    "    \n",
    "    #Just to print and look\n",
    "    Iceproduction[Iceproduction == -4.83591813831807e+35] = 0\n",
    "\n",
    "    x = np.sum(Iceproduction)\n",
    "    print(x)\n",
    "\n",
    "    \n",
    "    plt.figure(figsize=(10,10), dpi= 90)\n",
    "    plt.imshow(Iceproduction, interpolation='none', cmap='jet')#,vmin=70, vmax=100\n",
    "    plt.colorbar()\n",
    "    plt.title('Ice production '+file_list2[k-1][21:29]); #K-1 because of indexing starting at 0. Otherwise titles from 2nd date\n",
    "    plt.savefig(outputfolder+file_list2[k-1][:-4]+'.tif')#The -4 omits the tif part from file name for jpeg\n",
    "    plt.close() #try to stop printing all in notebook"
   ]
  },
  {
   "cell_type": "code",
   "execution_count": 117,
   "metadata": {},
   "outputs": [
    {
     "name": "stdout",
     "output_type": "stream",
     "text": [
      "490576765.0\n",
      "491438861.0\n",
      "490896659.0\n",
      "490251457.0\n",
      "488907204.0\n",
      "491658843.0\n",
      "494567468.0\n",
      "491725072.0\n",
      "493143600.0\n",
      "490091755.0\n",
      "489653343.0\n",
      "490726945.0\n",
      "489622649.0\n",
      "490101988.0\n",
      "488507017.0\n",
      "486222815.0\n",
      "487450220.0\n",
      "486664655.0\n",
      "489126117.0\n",
      "488277197.0\n",
      "488882633.0\n",
      "489680727.0\n",
      "488236778.0\n",
      "491565256.0\n",
      "487829474.0\n",
      "488383352.0\n",
      "488675090.0\n",
      "488211484.0\n",
      "489649571.0\n"
     ]
    }
   ],
   "source": [
    "##Write total productions to file\n",
    "## NEED TO FIX THIS. THIS DOESN'T CURRENTLY WORK. I THINK IT'S BECAUSE OF COLORBAR AND OTHER INFO ADDED TO TIFS\n",
    "#STOP GAP IS RUN TO CREATE FILE BUT RPELACE VALUES FROM PRINTS ABOVE SCRIPT\n",
    "#ONE SOLUTION IS NOT ADD EXTRAS TO TIFFS, ADD COLORBARS LATER IF NEEDED ON SEPARATE BATCH\n",
    "#IDEAL PERHAPS IS TO WRITE TO FILE AS PART OF ABOVE SCRIPT'S FOR LOOP\n",
    "\n",
    "\n",
    "\n",
    "import glob as glob\n",
    "\n",
    "in_directory = \"/Users/gjmacdonald/Documents/Sea Ice Project/AutoSeaIceProduc2/IceProducTifsOctTest/\" #set folder with tifs\n",
    "\n",
    "file_list2 = [x for x in sorted([x for x in os.listdir(\"/Users/gjmacdonald/Documents/Sea Ice Project/AutoSeaIceProduc2/IceProducTifsOctTest/\")])]\n",
    "thing = '.DS_Store' #Hidden file that occurs. Have to do this for any other non-tiff files\n",
    "while thing in file_list2: file_list2.remove(thing)    \n",
    "\n",
    "myfile = open('2020_OctTest_Iceproduction.csv', 'w') #set name\n",
    "myfile.write('filename' + ',' + 'ice production (units?)'+'\\n') #Add headers\n",
    "for file in file_list2:\n",
    "    (infilepath, infilename)= os.path.split (file)\n",
    "    image = Image.open(in_directory+file)\n",
    "    array = numpy.array(image)\n",
    "    array = array.astype(\"float\")\n",
    "    \n",
    "    #polynyaPixels = (array < 70).sum()\n",
    "    #AreaKm2 = (3.125*3.125)*polynyaPixels #Resolution of pixels * no of pixels\n",
    "    TotalDailyIceProduction = np.sum(array) #Resolution of pixels * no of pixels. Need to address resolution here, or I think not cos addressed earlier in calc\n",
    "    print(TotalDailyIceProduction)\n",
    "\n",
    "    #Need to do area calculation\n",
    "    #print(polynyaPixels)\n",
    "    myfile.write(infilename + ',' + str(TotalDailyIceProduction)+'\\n')\n",
    "    #Write filename and number to file\n",
    "                             \n",
    "myfile.close() #Note I think file saves where script is saved"
   ]
  },
  {
   "cell_type": "code",
   "execution_count": 115,
   "metadata": {},
   "outputs": [],
   "source": [
    "test = Image.open(in_directory+file)\n",
    "array = numpy.array(image)"
   ]
  },
  {
   "cell_type": "code",
   "execution_count": 120,
   "metadata": {},
   "outputs": [
    {
     "data": {
      "text/plain": [
       "(900, 900, 4)"
      ]
     },
     "execution_count": 120,
     "metadata": {},
     "output_type": "execute_result"
    }
   ],
   "source": [
    "array.shape"
   ]
  },
  {
   "cell_type": "code",
   "execution_count": 134,
   "metadata": {},
   "outputs": [],
   "source": [
    "#Open A and make raster\n",
    "path2 = '/Users/gjmacdonald/Documents/Sea Ice Project/SIC_AMSR2/2020masked/'\n",
    "StackEx= gdal.Open(path2+'clip_asi-AMSR2-s3125-20200302-v5.4.tif')\n",
    "StackEx2 = StackEx.ReadAsArray()\n",
    "\n",
    "#Open B and make raster\n",
    "\n"
   ]
  },
  {
   "cell_type": "code",
   "execution_count": 135,
   "metadata": {},
   "outputs": [
    {
     "data": {
      "text/plain": [
       "array([[255, 255, 255, ..., 255, 255, 255],\n",
       "       [255, 255, 255, ..., 255, 255, 255],\n",
       "       [255, 255, 255, ..., 255, 255, 255],\n",
       "       ...,\n",
       "       [255, 255, 255, ..., 255, 255, 255],\n",
       "       [255, 255, 255, ..., 255, 255, 255],\n",
       "       [255, 255, 255, ..., 255, 255, 255]], dtype=uint8)"
      ]
     },
     "execution_count": 135,
     "metadata": {},
     "output_type": "execute_result"
    }
   ],
   "source": [
    "StackEx2"
   ]
  },
  {
   "cell_type": "code",
   "execution_count": 153,
   "metadata": {},
   "outputs": [
    {
     "data": {
      "text/plain": [
       "<matplotlib.image.AxesImage at 0x7fe520045890>"
      ]
     },
     "execution_count": 153,
     "metadata": {},
     "output_type": "execute_result"
    },
    {
     "data": {
      "image/png": "[encoded data removed]",
      "text/plain": [
       "<Figure size 432x288 with 1 Axes>"
      ]
     },
     "metadata": {
      "needs_background": "light"
     },
     "output_type": "display_data"
    }
   ],
   "source": [
    "dataset= gdal.Open('/Users/gjmacdonald/Documents/Sea Ice Project/AutoSeaIceProduc2/Masked/HeatFlux1Oct_ExtentSat.tif')\n",
    "HeatFluxAll_99 = dataset.GetRasterBand(1).ReadAsArray()\n",
    "\n",
    "\n",
    "BIGTEST2 = HeatFluxAll_99[:,:]\n",
    "plt.imshow(BIGTEST) #so something is going wrong with loading the multiband tiff\n",
    "#BIGTEST2[30,50] = 25946112.0\n"
   ]
  },
  {
   "cell_type": "code",
   "execution_count": 175,
   "metadata": {},
   "outputs": [],
   "source": [
    "dataset= gdal.Open('/Users/gjmacdonald/Documents/Sea Ice Project/AutoSeaIceProduc2/Masked/HeatFlux1Oct_ExtentSat.tif')\n",
    "BIGTEST1 = dataset.ReadAsArray()\n",
    "#BIGTEST1"
   ]
  },
  {
   "cell_type": "code",
   "execution_count": 168,
   "metadata": {},
   "outputs": [
    {
     "data": {
      "text/plain": [
       "9.969209968386869e+36"
      ]
     },
     "execution_count": 168,
     "metadata": {},
     "output_type": "execute_result"
    }
   ],
   "source": [
    "#BIGTEST2[30,50]\n",
    "BIGTEST1[4,0,100]"
   ]
  },
  {
   "cell_type": "code",
   "execution_count": 174,
   "metadata": {},
   "outputs": [
    {
     "data": {
      "text/plain": [
       "<matplotlib.image.AxesImage at 0x7fe516dc77d0>"
      ]
     },
     "execution_count": 174,
     "metadata": {},
     "output_type": "execute_result"
    },
    {
     "data": {
      "image/png": "[encoded data removed]",
      "text/plain": [
       "<Figure size 432x288 with 1 Axes>"
      ]
     },
     "metadata": {
      "needs_background": "light"
     },
     "output_type": "display_data"
    }
   ],
   "source": [
    "BIGTEST1[BIGTEST1 == 9.969209968386869e+36] = 0                                     \n",
    "plt.imshow(BIGTEST1[1,:,:],vmin = 25946112.0, vmax= 2594611200)# ,vmin=70, vmax=100"
   ]
  },
  {
   "cell_type": "code",
   "execution_count": 165,
   "metadata": {},
   "outputs": [
    {
     "data": {
      "text/plain": [
       "<matplotlib.image.AxesImage at 0x7fe51b03e810>"
      ]
     },
     "execution_count": 165,
     "metadata": {},
     "output_type": "execute_result"
    },
    {
     "data": {
      "image/png": "[encoded data removed]",
      "text/plain": [
       "<Figure size 432x288 with 1 Axes>"
      ]
     },
     "metadata": {
      "needs_background": "light"
     },
     "output_type": "display_data"
    }
   ],
   "source": [
    "plt.imshow(Y/2/100)"
   ]
  },
  {
   "cell_type": "code",
   "execution_count": 201,
   "metadata": {},
   "outputs": [],
   "source": [
    "Shearer = (3125*3125)*(1-(0)*25946112/(920*(2.79*10**5)))#25946112 #1-(Y/2/100)\n",
    "Beardsley = SICO_mask*Shearer"
   ]
  },
  {
   "cell_type": "raw",
   "metadata": {},
   "source": []
  },
  {
   "cell_type": "code",
   "execution_count": 237,
   "metadata": {},
   "outputs": [
    {
     "data": {
      "text/plain": [
       "9765625.0"
      ]
     },
     "execution_count": 237,
     "metadata": {},
     "output_type": "execute_result"
    }
   ],
   "source": [
    "#plt.imshow(Beardsley)\n",
    "#plt.imshow(SICO_mask,vmin=1000, vmax=1000000000000000)\n",
    "Iceproduction[20,55]"
   ]
  },
  {
   "cell_type": "code",
   "execution_count": 197,
   "metadata": {},
   "outputs": [
    {
     "name": "stdout",
     "output_type": "stream",
     "text": [
      "1.0\n"
     ]
    }
   ],
   "source": [
    "Cole = Y/2/100\n",
    "Cole[20,55]\n",
    "print(1-0/2/100)"
   ]
  },
  {
   "cell_type": "code",
   "execution_count": 213,
   "metadata": {},
   "outputs": [
    {
     "data": {
      "text/plain": [
       "1.0"
      ]
     },
     "execution_count": 213,
     "metadata": {},
     "output_type": "execute_result"
    }
   ],
   "source": [
    "#6352237.172744272\n",
    "#976562.5# In polynya  -- no mask.  Beardsley[20,55]\n",
    "SICO_mask[60,15]"
   ]
  },
  {
   "cell_type": "code",
   "execution_count": 211,
   "metadata": {},
   "outputs": [],
   "source": [
    "SICO_mask = Y/2/100\n",
    "SICO_mask[SICO_mask == 0] = 0.1 \n",
    "SICO_mask[SICO_mask > 0.7] = 0 \n",
    "SICO_mask[(SICO_mask <= 0.7)&(SICO_mask>0)] = 1 "
   ]
  },
  {
   "cell_type": "code",
   "execution_count": 242,
   "metadata": {},
   "outputs": [
    {
     "data": {
      "text/plain": [
       "<matplotlib.image.AxesImage at 0x7fe51f58b890>"
      ]
     },
     "execution_count": 242,
     "metadata": {},
     "output_type": "execute_result"
    },
    {
     "data": {
      "image/png": "[encoded data removed]",
      "text/plain": [
       "<Figure size 432x288 with 1 Axes>"
      ]
     },
     "metadata": {
      "needs_background": "light"
     },
     "output_type": "display_data"
    }
   ],
   "source": [
    "plt.imshow(Iceproduction,vmin=8000000, vmax=10999995)\n",
    "#Dave = Iceproduction[1,60,15]\n",
    "#print(Dave)"
   ]
  },
  {
   "cell_type": "code",
   "execution_count": 243,
   "metadata": {},
   "outputs": [
    {
     "data": {
      "text/plain": [
       "9765625.0"
      ]
     },
     "execution_count": 243,
     "metadata": {},
     "output_type": "execute_result"
    }
   ],
   "source": [
    "#Iceproduction[Iceproduction == -4.83591813831807e+35] = 0\n",
    "\n",
    "Iceproduction[20,60]"
   ]
  },
  {
   "cell_type": "code",
   "execution_count": 222,
   "metadata": {},
   "outputs": [
    {
     "data": {
      "text/plain": [
       "-4.83591813831807e+35"
      ]
     },
     "execution_count": 222,
     "metadata": {},
     "output_type": "execute_result"
    }
   ],
   "source": [
    "Iceproduction[0,100]"
   ]
  },
  {
   "cell_type": "code",
   "execution_count": 247,
   "metadata": {},
   "outputs": [
    {
     "data": {
      "text/plain": [
       "1136.0"
      ]
     },
     "execution_count": 247,
     "metadata": {},
     "output_type": "execute_result"
    }
   ],
   "source": [
    "#last day total \n",
    "np.sum(SICO_mask)\n",
    "#1136.0\n",
    "#10566694757.450836/1136\n"
   ]
  },
  {
   "cell_type": "code",
   "execution_count": null,
   "metadata": {},
   "outputs": [],
   "source": []
  }
 ],
 "metadata": {
  "kernelspec": {
   "display_name": "Python [conda env:my_env]",
   "language": "python",
   "name": "conda-env-my_env-py"
  },
  "language_info": {
   "codemirror_mode": {
    "name": "ipython",
    "version": 3
   },
   "file_extension": ".py",
   "mimetype": "text/x-python",
   "name": "python",
   "nbconvert_exporter": "python",
   "pygments_lexer": "ipython3",
   "version": "3.7.7"
  }
 },
 "nbformat": 4,
 "nbformat_minor": 4
}
