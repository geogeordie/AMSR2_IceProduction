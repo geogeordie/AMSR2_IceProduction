{
 "cells": [
  {
   "cell_type": "code",
   "execution_count": 64,
   "metadata": {},
   "outputs": [],
   "source": [
    "import os, fnmatch\n",
    "import numpy\n",
    "from PIL import Image\n",
    "import csv\n",
    "import gdal\n",
    "import matplotlib.pyplot as plt\n",
    "\n",
    "\n",
    "file = '/Users/gjmacdonald/Documents/Sea Ice Project/SIC_AMSR2/2020masked/clip_asi-AMSR2-s3125-20201001-v5.4.tif'\n",
    "image = Image.open(file)\n",
    "SICOct1 = numpy.array(image) #Oct 1\n",
    "\n",
    "#x= \n",
    "#data = x.ReadAsArray()\n",
    "\n",
    "dataset= gdal.Open('/Users/gjmacdonald/Documents/Sea Ice Project/AutoSeaIceProduc2/Masked/HeatFlux1Oct_Extent.tif')\n",
    "HeatFluxAll = dataset.ReadAsArray()\n",
    "Oct1HF = HeatFluxAll[0,:,:] #Day 1 = index\n",
    "#Nodata value = 9.969209968386869e+36\n",
    "\n",
    "# Iceproduction = 84600*(3.125*3.125) * (1-SIC) * heatflux / 920 * (2.79*10^5)  check units of area\n",
    "\n",
    "#SIC divded by two as is out of 200, and by 100 to make decimal. Check this for polynya area too!\n",
    "\n",
    "\n",
    "#Iceproduction = 84600*(3.125*3.125)*(1-(SICOct1/2/100)*Oct1HF/920*(2.79*10**5)\n",
    "\n",
    "\n",
    "                                     #Iceproduction = 84600*(3.125*3.125)*(1*Oct1HF/920*(2.79*10**5)\n",
    "\n",
    "#Some random tab problem if continue in this cell\n",
    "\n",
    "#Cheng did 0.75 but I did 0.75 for polynya area. Reasses\n",
    "        #A[(A>5)&(A<10)]\n",
    "\n"
   ]
  },
  {
   "cell_type": "raw",
   "metadata": {},
   "source": []
  },
  {
   "cell_type": "code",
   "execution_count": 84,
   "metadata": {},
   "outputs": [
    {
     "data": {
      "text/plain": [
       "<matplotlib.image.AxesImage at 0x7fe530189fd0>"
      ]
     },
     "execution_count": 84,
     "metadata": {},
     "output_type": "execute_result"
    },
    {
     "data": {
      "image/png": "[encoded data removed]",
      "text/plain": [
       "<Figure size 432x288 with 1 Axes>"
      ]
     },
     "metadata": {
      "needs_background": "light"
     },
     "output_type": "display_data"
    }
   ],
   "source": [
    "#Conveluted way of making values that are 0 to 0.7 = to 1, and all values >0.7 incl nodata = 0\n",
    "\n",
    "Iceproduction = 84600*(3.125*3.125)*(1-(SICOct1/2/100)*Oct1HF/(920*(2.79*10**5))) #careful with brackets here especially after division\n",
    "SICOct1_mask = SICOct1/2/100 #bc scaled\n",
    "SICOct1_mask[SICOct1_mask == 0] = 0.1                                     \n",
    "SICOct1_mask[SICOct1_mask > 0.7] = 0 \n",
    "SICOct1_mask[(SICOct1_mask <= 0.7)&(SICOct1_mask>0)] = 1 \n",
    "#Cheng did 0.75 but I did 0.75 for polynya area. Reasses\n",
    "\n",
    "Iceproduction1Oct = SICOct1_mask*Iceproduction\n",
    "plt.imshow(Iceproduction1Oct)\n",
    "#Iceproduction1Oct[35,50] #824675491123.1085 823782665817.1965 823782.6658171966\n",
    "\n"
   ]
  },
  {
   "cell_type": "code",
   "execution_count": 105,
   "metadata": {},
   "outputs": [
    {
     "name": "stdout",
     "output_type": "stream",
     "text": [
      "261854039.90636098\n",
      "283444511.71941173\n",
      "478501033.74733967\n",
      "334540270.5729194\n",
      "239113635.02579296\n",
      "308685716.60412055\n",
      "581728772.1739724\n",
      "473362812.6665822\n",
      "627319086.0608867\n",
      "335206684.04559076\n",
      "322446224.0224902\n",
      "408342902.38911235\n",
      "397829311.0029699\n",
      "451899242.5123725\n",
      "233525909.4054948\n",
      "50850315.6047243\n",
      "228830169.26253283\n",
      "123159711.19293477\n",
      "339991927.75473577\n",
      "287509245.61173546\n",
      "287679693.2240908\n",
      "377183683.7764817\n",
      "270968934.6790577\n",
      "507397122.16378015\n",
      "289293012.4820971\n",
      "231995212.4388791\n",
      "247707720.2093386\n",
      "189098750.21796712\n",
      "330289979.65880424\n"
     ]
    }
   ],
   "source": [
    "##Try to loop through october. Above works for one day\n",
    "##Seems to work - apart from misses last day, and may want to check if right since looks lower where less ice\n",
    "import os\n",
    "from PIL import Image\n",
    "import numpy as np\n",
    "import matplotlib.pyplot as plt\n",
    "\n",
    "outputfolder ='/Users/gjmacdonald/Documents/Sea Ice Project/AutoSeaIceProduc2/IceProducTifsOctTest/'\n",
    "path = '/Users/gjmacdonald/Documents/Sea Ice Project/AutoSeaIceProduc2/SIC_OctTest/'  \n",
    "noOfImages = 31 #no of images +1\n",
    "\n",
    "dataset= gdal.Open('/Users/gjmacdonald/Documents/Sea Ice Project/AutoSeaIceProduc2/Masked/HeatFlux1Oct_Extent.tif')\n",
    "HeatFluxAll = dataset.ReadAsArray()\n",
    "#Oct1HF = HeatFluxAll[0,:,:]\n",
    "\n",
    "\n",
    "file_list2 = [x for x in sorted([x for x in os.listdir(path)])]\n",
    "thing = '.DS_Store' #Hidden file that occurs. \n",
    "image_frames = []\n",
    "days = np.arange(1,noOfImages)#Should this be 0?\n",
    "\n",
    "for k in days:\n",
    "    if k == days.shape[0]: #day.shape[0] gets the last index of shape, which breaks it. \n",
    "        break\n",
    "    image = Image.open(path + file_list2[(days[k]-1)]) #Cycles through file list. 0-1 because index starts at 0 \n",
    "    Y = np.array(image)\n",
    "    Y = Y.astype(\"float\") #Necessary to convert to Nan\n",
    "    #Y[Y == 255] = np.nan #Convert nodata to NaN\n",
    "    #Z = Y/2 # Because SIC are doubled in this resolution of dataset\n",
    "    ##Get Heatflux\n",
    "    Heatflux = HeatFluxAll[k-1,:,:] #assuming start from first band. k-1 cos first band indexed as 0, k starts at 1\n",
    "    Iceproduction = 84600*(3.125*3.125)*(1-(Y/2/100)*Heatflux/(920*(2.79*10**5)))\n",
    "    \n",
    "    ##Make mask from SIC #Conveluted way of making values that are 0 to 0.7 = to 1, and all values >0.7 incl nodata = 0\n",
    "    SICO_mask = Y/2/100\n",
    "    SICO_mask[SICO_mask == 0] = 0.1 \n",
    "    SICO_mask[SICO_mask > 0.7] = 0 \n",
    "    SICO_mask[(SICOct1_mask <= 0.7)&(SICOct1_mask>0)] = 1 \n",
    "    \n",
    "    ##Apply mask to iceproduction\n",
    "    Iceproduction = SICO_mask*Iceproduction\n",
    "    \n",
    "    #Just to print and look\n",
    "    x = np.sum(Iceproduction)\n",
    "    print(x)\n",
    "\n",
    "    \n",
    "    plt.figure(figsize=(10,10), dpi= 90)\n",
    "    plt.imshow(Iceproduction, interpolation='none', cmap='jet')#,vmin=70, vmax=100\n",
    "    plt.colorbar()\n",
    "    plt.title('Ice production '+file_list2[k-1][21:29]); #K-1 because of indexing starting at 0. Otherwise titles from 2nd date\n",
    "    plt.savefig(outputfolder+file_list2[k-1][:-4]+'.tif')#The -4 omits the tif part from file name for jpeg\n",
    "    plt.close() #try to stop printing all in notebook"
   ]
  },
  {
   "cell_type": "code",
   "execution_count": 117,
   "metadata": {},
   "outputs": [
    {
     "name": "stdout",
     "output_type": "stream",
     "text": [
      "490576765.0\n",
      "491438861.0\n",
      "490896659.0\n",
      "490251457.0\n",
      "488907204.0\n",
      "491658843.0\n",
      "494567468.0\n",
      "491725072.0\n",
      "493143600.0\n",
      "490091755.0\n",
      "489653343.0\n",
      "490726945.0\n",
      "489622649.0\n",
      "490101988.0\n",
      "488507017.0\n",
      "486222815.0\n",
      "487450220.0\n",
      "486664655.0\n",
      "489126117.0\n",
      "488277197.0\n",
      "488882633.0\n",
      "489680727.0\n",
      "488236778.0\n",
      "491565256.0\n",
      "487829474.0\n",
      "488383352.0\n",
      "488675090.0\n",
      "488211484.0\n",
      "489649571.0\n"
     ]
    }
   ],
   "source": [
    "##Write total productions to file\n",
    "## NEED TO FIX THIS. THIS DOESN'T CURRENTLY WORK. I THINK IT'S BECAUSE OF COLORBAR AND OTHER INFO ADDED TO TIFS\n",
    "#STOP GAP IS RUN TO CREATE FILE BUT RPELACE VALUES FROM PRINTS ABOVE SCRIPT\n",
    "#ONE SOLUTION IS NOT ADD EXTRAS TO TIFFS, ADD COLORBARS LATER IF NEEDED ON SEPARATE BATCH\n",
    "#IDEAL PERHAPS IS TO WRITE TO FILE AS PART OF ABOVE SCRIPT'S FOR LOOP\n",
    "\n",
    "\n",
    "\n",
    "import glob as glob\n",
    "\n",
    "in_directory = \"/Users/gjmacdonald/Documents/Sea Ice Project/AutoSeaIceProduc2/IceProducTifsOctTest/\" #set folder with tifs\n",
    "\n",
    "file_list2 = [x for x in sorted([x for x in os.listdir(\"/Users/gjmacdonald/Documents/Sea Ice Project/AutoSeaIceProduc2/IceProducTifsOctTest/\")])]\n",
    "thing = '.DS_Store' #Hidden file that occurs. Have to do this for any other non-tiff files\n",
    "while thing in file_list2: file_list2.remove(thing)    \n",
    "\n",
    "myfile = open('2020_OctTest_Iceproduction.csv', 'w') #set name\n",
    "myfile.write('filename' + ',' + 'ice production (units?)'+'\\n') #Add headers\n",
    "for file in file_list2:\n",
    "    (infilepath, infilename)= os.path.split (file)\n",
    "    image = Image.open(in_directory+file)\n",
    "    array = numpy.array(image)\n",
    "    array = array.astype(\"float\")\n",
    "    #polynyaPixels = (array < 70).sum()\n",
    "    #AreaKm2 = (3.125*3.125)*polynyaPixels #Resolution of pixels * no of pixels\n",
    "    TotalDailyIceProduction = np.sum(array) #Resolution of pixels * no of pixels. Need to address resolution here, or I think not cos addressed earlier in calc\n",
    "    print(TotalDailyIceProduction)\n",
    "\n",
    "    #Need to do area calculation\n",
    "    #print(polynyaPixels)\n",
    "    myfile.write(infilename + ',' + str(TotalDailyIceProduction)+'\\n')\n",
    "    #Write filename and number to file\n",
    "                             \n",
    "myfile.close() #Note I think file saves where script is saved"
   ]
  },
  {
   "cell_type": "code",
   "execution_count": 115,
   "metadata": {},
   "outputs": [],
   "source": [
    "test = Image.open(in_directory+file)\n",
    "array = numpy.array(image)"
   ]
  },
  {
   "cell_type": "code",
   "execution_count": 120,
   "metadata": {},
   "outputs": [
    {
     "data": {
      "text/plain": [
       "(900, 900, 4)"
      ]
     },
     "execution_count": 120,
     "metadata": {},
     "output_type": "execute_result"
    }
   ],
   "source": [
    "array.shape"
   ]
  },
  {
   "cell_type": "code",
   "execution_count": 134,
   "metadata": {},
   "outputs": [],
   "source": [
    "#Open A and make raster\n",
    "path2 = '/Users/gjmacdonald/Documents/Sea Ice Project/SIC_AMSR2/2020masked/'\n",
    "StackEx= gdal.Open(path2+'clip_asi-AMSR2-s3125-20200302-v5.4.tif')\n",
    "StackEx2 = StackEx.ReadAsArray()\n",
    "\n",
    "#Open B and make raster\n",
    "\n"
   ]
  },
  {
   "cell_type": "code",
   "execution_count": 135,
   "metadata": {},
   "outputs": [
    {
     "data": {
      "text/plain": [
       "array([[255, 255, 255, ..., 255, 255, 255],\n",
       "       [255, 255, 255, ..., 255, 255, 255],\n",
       "       [255, 255, 255, ..., 255, 255, 255],\n",
       "       ...,\n",
       "       [255, 255, 255, ..., 255, 255, 255],\n",
       "       [255, 255, 255, ..., 255, 255, 255],\n",
       "       [255, 255, 255, ..., 255, 255, 255]], dtype=uint8)"
      ]
     },
     "execution_count": 135,
     "metadata": {},
     "output_type": "execute_result"
    }
   ],
   "source": [
    "StackEx2"
   ]
  },
  {
   "cell_type": "code",
   "execution_count": null,
   "metadata": {},
   "outputs": [],
   "source": []
  }
 ],
 "metadata": {
  "kernelspec": {
   "display_name": "Python [conda env:my_env]",
   "language": "python",
   "name": "conda-env-my_env-py"
  },
  "language_info": {
   "codemirror_mode": {
    "name": "ipython",
    "version": 3
   },
   "file_extension": ".py",
   "mimetype": "text/x-python",
   "name": "python",
   "nbconvert_exporter": "python",
   "pygments_lexer": "ipython3",
   "version": "3.7.7"
  }
 },
 "nbformat": 4,
 "nbformat_minor": 4
}
