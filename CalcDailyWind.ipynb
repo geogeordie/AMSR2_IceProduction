{
 "cells": [
  {
   "cell_type": "code",
   "execution_count": null,
   "metadata": {},
   "outputs": [],
   "source": []
  },
  {
   "cell_type": "code",
   "execution_count": 126,
   "metadata": {},
   "outputs": [],
   "source": [
    "import os\n",
    "import numpy as np\n",
    "import sys\n",
    "\n",
    "##SET PATH AND OUTPUT!!\n",
    "#will fail if already a text file in the same folder\n",
    "\n",
    "output = 'Wind2016.txt' #Output filename\n",
    "path = '/Users/gjmacdonald/Documents/Sea Ice Project/AWSData/2016/'\n",
    "file_list2 = [x for x in sorted([x for x in os.listdir(path)])]\n",
    "thing = '.DS_Store' #Hidden file that occurs. \n",
    "while thing in file_list2: file_list2.remove(thing)\n",
    "#print(file_list2)\n",
    "\n",
    "\n",
    "windsp=[] #empty lists\n",
    "year = []\n",
    "month = []\n",
    "day =[]\n",
    "winddir=[]\n",
    "for k in file_list2:\n",
    "    a = np.loadtxt(path+k,skiprows=2)\n",
    "    ThreeHrWindSp = a[:,7] #Wind is in 8th col (so index 5)\n",
    "    ThreeHrWindSp[ThreeHrWindSp == 444.0] = 'nan' #444.0 is the no data value\n",
    "    DailyWindSp = np.nanmean(ThreeHrWindSp.reshape(-1,8),axis=1)\n",
    "    windsp += DailyWindSp.tolist()\n",
    "    del DailyWindSp\n",
    "    #print(k)\n",
    "    #print(len(windsp))\n",
    "    \n",
    "    yr = a[:,0] #yr is 1st col (so index 0)\n",
    "    yr[yr == 444.0] = 'nan' #444.0 is the no data value\n",
    "    yr = np.nanmean(yr.reshape(-1,8),axis=1)\n",
    "    year += yr.tolist()\n",
    "    \n",
    "    mth = a[:,2] \n",
    "    mth[mth == 444.0] = 'nan' #444.0 is the no data value\n",
    "    mth = np.nanmean(mth.reshape(-1,8),axis=1)\n",
    "    month += mth.tolist()\n",
    "    \n",
    "    d = a[:,3] \n",
    "    d[d == 444.0] = 'nan' #444.0 is the no data value\n",
    "    d = np.nanmean(d.reshape(-1,8),axis=1)\n",
    "    day += d.tolist()\n",
    "    \n",
    "    wd = a[:,8] \n",
    "    wd[wd == 444.0] = 'nan' #444.0 is the no data value\n",
    "    wd = np.nanmean(wd.reshape(-1,8),axis=1)\n",
    "    winddir += wd.tolist()\n",
    "\n",
    "Z = np.column_stack([year,month,day,windsp,winddir]) #Combine lists into matrix\n",
    "\n",
    "\n",
    "#Remember to run save file in next cell!\n",
    "\n",
    "#print(len(windsp))"
   ]
  },
  {
   "cell_type": "code",
   "execution_count": 127,
   "metadata": {},
   "outputs": [],
   "source": [
    "np.savetxt(path+output,Z,fmt='%i %i %i %f %f') #sets columns to save as integers, floating \n"
   ]
  },
  {
   "cell_type": "code",
   "execution_count": null,
   "metadata": {},
   "outputs": [],
   "source": []
  },
  {
   "cell_type": "code",
   "execution_count": null,
   "metadata": {},
   "outputs": [],
   "source": []
  },
  {
   "cell_type": "code",
   "execution_count": null,
   "metadata": {},
   "outputs": [],
   "source": []
  },
  {
   "cell_type": "code",
   "execution_count": null,
   "metadata": {},
   "outputs": [],
   "source": []
  },
  {
   "cell_type": "code",
   "execution_count": null,
   "metadata": {},
   "outputs": [],
   "source": []
  },
  {
   "cell_type": "code",
   "execution_count": null,
   "metadata": {},
   "outputs": [],
   "source": []
  },
  {
   "cell_type": "code",
   "execution_count": null,
   "metadata": {},
   "outputs": [],
   "source": []
  },
  {
   "cell_type": "code",
   "execution_count": null,
   "metadata": {},
   "outputs": [],
   "source": []
  },
  {
   "cell_type": "code",
   "execution_count": null,
   "metadata": {},
   "outputs": [],
   "source": []
  },
  {
   "cell_type": "code",
   "execution_count": null,
   "metadata": {},
   "outputs": [],
   "source": []
  },
  {
   "cell_type": "code",
   "execution_count": null,
   "metadata": {},
   "outputs": [],
   "source": []
  },
  {
   "cell_type": "code",
   "execution_count": null,
   "metadata": {},
   "outputs": [],
   "source": []
  }
 ],
 "metadata": {
  "kernelspec": {
   "display_name": "Python [conda env:my_env]",
   "language": "python",
   "name": "conda-env-my_env-py"
  },
  "language_info": {
   "codemirror_mode": {
    "name": "ipython",
    "version": 3
   },
   "file_extension": ".py",
   "mimetype": "text/x-python",
   "name": "python",
   "nbconvert_exporter": "python",
   "pygments_lexer": "ipython3",
   "version": "3.7.7"
  }
 },
 "nbformat": 4,
 "nbformat_minor": 4
}
